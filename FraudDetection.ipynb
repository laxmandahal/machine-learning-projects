{
 "cells": [
  {
   "cell_type": "code",
   "execution_count": 1,
   "id": "85a01ea9",
   "metadata": {},
   "outputs": [],
   "source": [
    "import os\n",
    "import collections\n",
    "import time\n",
    "from collections import Counter\n",
    "\n",
    "import pandas as pd \n",
    "import numpy as np \n",
    "import matplotlib.pyplot as plt \n",
    "import seaborn as sns \n",
    "\n",
    "from sklearn.linear_model import LogisticRegression\n",
    "from sklearn.svm import LinearSVC\n",
    "from sklearn.neighbors import KNeighborsClassifier\n",
    "from sklearn.tree import DecisionTreeClassifier\n",
    "from sklearn.ensemble import RandomForestClassifier\n",
    "from xgboost import XGBClassifier\n",
    "\n",
    "from sklearn.model_selection import train_test_split\n",
    "from imblearn.over_sampling import SMOTE\n",
    "from sklearn.metrics import precision_score, recall_score, f1_score, roc_auc_score, accuracy_score\n",
    "\n",
    "import warnings\n",
    "warnings.filterwarnings(\"ignore\")"
   ]
  },
  {
   "cell_type": "markdown",
   "id": "3f1e6248",
   "metadata": {},
   "source": [
    "This dataset contains transactions made by credit cards in September 2013 by European cardholder in the span of two days. The highly imbalanced dataset consists of 492 fradulent transactions out of 284,807 total transactions. Due to privacy issues, feature names and detailes have been redacted.\n",
    "\n",
    "Data Source: [Kaggle](https://www.kaggle.com/mlg-ulb/creditcardfraud)\n"
   ]
  },
  {
   "cell_type": "code",
   "execution_count": 2,
   "id": "55c1eca0",
   "metadata": {
    "scrolled": true
   },
   "outputs": [
    {
     "data": {
      "text/html": [
       "<div>\n",
       "<style scoped>\n",
       "    .dataframe tbody tr th:only-of-type {\n",
       "        vertical-align: middle;\n",
       "    }\n",
       "\n",
       "    .dataframe tbody tr th {\n",
       "        vertical-align: top;\n",
       "    }\n",
       "\n",
       "    .dataframe thead th {\n",
       "        text-align: right;\n",
       "    }\n",
       "</style>\n",
       "<table border=\"1\" class=\"dataframe\">\n",
       "  <thead>\n",
       "    <tr style=\"text-align: right;\">\n",
       "      <th></th>\n",
       "      <th>Time</th>\n",
       "      <th>V1</th>\n",
       "      <th>V2</th>\n",
       "      <th>V3</th>\n",
       "      <th>V4</th>\n",
       "      <th>V5</th>\n",
       "      <th>V6</th>\n",
       "      <th>V7</th>\n",
       "      <th>V8</th>\n",
       "      <th>V9</th>\n",
       "      <th>...</th>\n",
       "      <th>V21</th>\n",
       "      <th>V22</th>\n",
       "      <th>V23</th>\n",
       "      <th>V24</th>\n",
       "      <th>V25</th>\n",
       "      <th>V26</th>\n",
       "      <th>V27</th>\n",
       "      <th>V28</th>\n",
       "      <th>Amount</th>\n",
       "      <th>Class</th>\n",
       "    </tr>\n",
       "  </thead>\n",
       "  <tbody>\n",
       "    <tr>\n",
       "      <th>0</th>\n",
       "      <td>0.0</td>\n",
       "      <td>-1.359807</td>\n",
       "      <td>-0.072781</td>\n",
       "      <td>2.536347</td>\n",
       "      <td>1.378155</td>\n",
       "      <td>-0.338321</td>\n",
       "      <td>0.462388</td>\n",
       "      <td>0.239599</td>\n",
       "      <td>0.098698</td>\n",
       "      <td>0.363787</td>\n",
       "      <td>...</td>\n",
       "      <td>-0.018307</td>\n",
       "      <td>0.277838</td>\n",
       "      <td>-0.110474</td>\n",
       "      <td>0.066928</td>\n",
       "      <td>0.128539</td>\n",
       "      <td>-0.189115</td>\n",
       "      <td>0.133558</td>\n",
       "      <td>-0.021053</td>\n",
       "      <td>149.62</td>\n",
       "      <td>0</td>\n",
       "    </tr>\n",
       "    <tr>\n",
       "      <th>1</th>\n",
       "      <td>0.0</td>\n",
       "      <td>1.191857</td>\n",
       "      <td>0.266151</td>\n",
       "      <td>0.166480</td>\n",
       "      <td>0.448154</td>\n",
       "      <td>0.060018</td>\n",
       "      <td>-0.082361</td>\n",
       "      <td>-0.078803</td>\n",
       "      <td>0.085102</td>\n",
       "      <td>-0.255425</td>\n",
       "      <td>...</td>\n",
       "      <td>-0.225775</td>\n",
       "      <td>-0.638672</td>\n",
       "      <td>0.101288</td>\n",
       "      <td>-0.339846</td>\n",
       "      <td>0.167170</td>\n",
       "      <td>0.125895</td>\n",
       "      <td>-0.008983</td>\n",
       "      <td>0.014724</td>\n",
       "      <td>2.69</td>\n",
       "      <td>0</td>\n",
       "    </tr>\n",
       "    <tr>\n",
       "      <th>2</th>\n",
       "      <td>1.0</td>\n",
       "      <td>-1.358354</td>\n",
       "      <td>-1.340163</td>\n",
       "      <td>1.773209</td>\n",
       "      <td>0.379780</td>\n",
       "      <td>-0.503198</td>\n",
       "      <td>1.800499</td>\n",
       "      <td>0.791461</td>\n",
       "      <td>0.247676</td>\n",
       "      <td>-1.514654</td>\n",
       "      <td>...</td>\n",
       "      <td>0.247998</td>\n",
       "      <td>0.771679</td>\n",
       "      <td>0.909412</td>\n",
       "      <td>-0.689281</td>\n",
       "      <td>-0.327642</td>\n",
       "      <td>-0.139097</td>\n",
       "      <td>-0.055353</td>\n",
       "      <td>-0.059752</td>\n",
       "      <td>378.66</td>\n",
       "      <td>0</td>\n",
       "    </tr>\n",
       "    <tr>\n",
       "      <th>3</th>\n",
       "      <td>1.0</td>\n",
       "      <td>-0.966272</td>\n",
       "      <td>-0.185226</td>\n",
       "      <td>1.792993</td>\n",
       "      <td>-0.863291</td>\n",
       "      <td>-0.010309</td>\n",
       "      <td>1.247203</td>\n",
       "      <td>0.237609</td>\n",
       "      <td>0.377436</td>\n",
       "      <td>-1.387024</td>\n",
       "      <td>...</td>\n",
       "      <td>-0.108300</td>\n",
       "      <td>0.005274</td>\n",
       "      <td>-0.190321</td>\n",
       "      <td>-1.175575</td>\n",
       "      <td>0.647376</td>\n",
       "      <td>-0.221929</td>\n",
       "      <td>0.062723</td>\n",
       "      <td>0.061458</td>\n",
       "      <td>123.50</td>\n",
       "      <td>0</td>\n",
       "    </tr>\n",
       "    <tr>\n",
       "      <th>4</th>\n",
       "      <td>2.0</td>\n",
       "      <td>-1.158233</td>\n",
       "      <td>0.877737</td>\n",
       "      <td>1.548718</td>\n",
       "      <td>0.403034</td>\n",
       "      <td>-0.407193</td>\n",
       "      <td>0.095921</td>\n",
       "      <td>0.592941</td>\n",
       "      <td>-0.270533</td>\n",
       "      <td>0.817739</td>\n",
       "      <td>...</td>\n",
       "      <td>-0.009431</td>\n",
       "      <td>0.798278</td>\n",
       "      <td>-0.137458</td>\n",
       "      <td>0.141267</td>\n",
       "      <td>-0.206010</td>\n",
       "      <td>0.502292</td>\n",
       "      <td>0.219422</td>\n",
       "      <td>0.215153</td>\n",
       "      <td>69.99</td>\n",
       "      <td>0</td>\n",
       "    </tr>\n",
       "  </tbody>\n",
       "</table>\n",
       "<p>5 rows × 31 columns</p>\n",
       "</div>"
      ],
      "text/plain": [
       "   Time        V1        V2        V3        V4        V5        V6        V7  \\\n",
       "0   0.0 -1.359807 -0.072781  2.536347  1.378155 -0.338321  0.462388  0.239599   \n",
       "1   0.0  1.191857  0.266151  0.166480  0.448154  0.060018 -0.082361 -0.078803   \n",
       "2   1.0 -1.358354 -1.340163  1.773209  0.379780 -0.503198  1.800499  0.791461   \n",
       "3   1.0 -0.966272 -0.185226  1.792993 -0.863291 -0.010309  1.247203  0.237609   \n",
       "4   2.0 -1.158233  0.877737  1.548718  0.403034 -0.407193  0.095921  0.592941   \n",
       "\n",
       "         V8        V9  ...       V21       V22       V23       V24       V25  \\\n",
       "0  0.098698  0.363787  ... -0.018307  0.277838 -0.110474  0.066928  0.128539   \n",
       "1  0.085102 -0.255425  ... -0.225775 -0.638672  0.101288 -0.339846  0.167170   \n",
       "2  0.247676 -1.514654  ...  0.247998  0.771679  0.909412 -0.689281 -0.327642   \n",
       "3  0.377436 -1.387024  ... -0.108300  0.005274 -0.190321 -1.175575  0.647376   \n",
       "4 -0.270533  0.817739  ... -0.009431  0.798278 -0.137458  0.141267 -0.206010   \n",
       "\n",
       "        V26       V27       V28  Amount  Class  \n",
       "0 -0.189115  0.133558 -0.021053  149.62      0  \n",
       "1  0.125895 -0.008983  0.014724    2.69      0  \n",
       "2 -0.139097 -0.055353 -0.059752  378.66      0  \n",
       "3 -0.221929  0.062723  0.061458  123.50      0  \n",
       "4  0.502292  0.219422  0.215153   69.99      0  \n",
       "\n",
       "[5 rows x 31 columns]"
      ]
     },
     "execution_count": 2,
     "metadata": {},
     "output_type": "execute_result"
    }
   ],
   "source": [
    "df = pd.read_csv(r'data/creditcard.csv')\n",
    "df.head()"
   ]
  },
  {
   "cell_type": "markdown",
   "id": "43d068e2",
   "metadata": {},
   "source": [
    "The transformed features, V1 through V28 have already been transformed. However, \"Time\" and \"Amount\" have not been transformed. The untransformed features will be transformed before fitting the models.\n",
    "\n",
    "We can see that data is highly skewed since only 0.17% of the transactions are fradulent. If we use the baseline dataset without addressing the skewness, the model will most likely be useless. For instance, if we classify all the transactions as non-fradulent, the model would be 99.87% accurate but the problem would remain unsolved. \n",
    "\n",
    "The following code implements over- and under-fitting techniques to predict the fradulent transactions. To evaluate the model performance, confusion matrix will be primarily used in addition to the following metrics:\n",
    "\n",
    "$$\\text{precison} = \\frac{\\text{TP}}{\\text{TP}+ \\text{FP}} $$\n",
    "\n",
    "$$\\text{recall} = \\frac{\\text{TP}}{\\text{TP}+ \\text{FN}} $$\n",
    "\n",
    "$$\\text{F1-score} = \\frac{2\\times \\text{precision}\\times \\text{recall}}{\\text{precision}+ \\text{recall}} $$\n",
    "\n",
    "$$\\text{accuracy} = \\frac{\\text{TP} + \\text{TN}}{\\text{TP}+ \\text{TN} + \\text{FP}+ \\text{FN}} $$\n"
   ]
  },
  {
   "cell_type": "code",
   "execution_count": 3,
   "id": "c126e46d",
   "metadata": {},
   "outputs": [
    {
     "name": "stdout",
     "output_type": "stream",
     "text": [
      "0.1727485630620034 % of the transactions are fradulent\n"
     ]
    },
    {
     "data": {
      "text/plain": [
       "Class\n",
       "0    284315\n",
       "1       492\n",
       "dtype: int64"
      ]
     },
     "execution_count": 3,
     "metadata": {},
     "output_type": "execute_result"
    }
   ],
   "source": [
    "print(df.groupby('Class').size()[1] / len(df) * 100, '% of the transactions are fradulent')\n",
    "df.groupby('Class').size()"
   ]
  },
  {
   "cell_type": "code",
   "execution_count": 4,
   "id": "d6ba0ec5",
   "metadata": {},
   "outputs": [
    {
     "data": {
      "text/plain": [
       "Time      0\n",
       "V1        0\n",
       "V2        0\n",
       "V3        0\n",
       "V4        0\n",
       "V5        0\n",
       "V6        0\n",
       "V7        0\n",
       "V8        0\n",
       "V9        0\n",
       "V10       0\n",
       "V11       0\n",
       "V12       0\n",
       "V13       0\n",
       "V14       0\n",
       "V15       0\n",
       "V16       0\n",
       "V17       0\n",
       "V18       0\n",
       "V19       0\n",
       "V20       0\n",
       "V21       0\n",
       "V22       0\n",
       "V23       0\n",
       "V24       0\n",
       "V25       0\n",
       "V26       0\n",
       "V27       0\n",
       "V28       0\n",
       "Amount    0\n",
       "Class     0\n",
       "dtype: int64"
      ]
     },
     "execution_count": 4,
     "metadata": {},
     "output_type": "execute_result"
    }
   ],
   "source": [
    "df.isnull().sum()"
   ]
  },
  {
   "cell_type": "code",
   "execution_count": 5,
   "id": "aa28447f",
   "metadata": {},
   "outputs": [
    {
     "data": {
      "image/png": "[encoded data removed]",
      "text/plain": [
       "<Figure size 432x288 with 1 Axes>"
      ]
     },
     "metadata": {
      "needs_background": "light"
     },
     "output_type": "display_data"
    }
   ],
   "source": [
    "sns.countplot('Class', data = df, palette = ['dodgerblue', 'red']);"
   ]
  },
  {
   "cell_type": "markdown",
   "id": "22ad157a",
   "metadata": {},
   "source": [
    "To scale unscaled features (Time and Amount), the following transformations are considered\n",
    "\n",
    "The robust scalar removes the median and scales the data according to the quantile range (defaults to interquantile range (IQR)). IQR is the range between the $25^{th}$ and the $75^{th}$ quartile. Robust is used because the influence of outliers is minimal. \n",
    "\n",
    "$$X_{Robust} = \\frac{x_i - x_{50}}{x_{75} - x_{25}} $$\n",
    "\n",
    "$$X_{MinMax} = \\frac{x_i - min(x)}{max(x) - min(x)} $$\n",
    "\n",
    "$$X_{Standard} = \\frac{x_i - mean(x)}{std(x)} $$"
   ]
  },
  {
   "cell_type": "code",
   "execution_count": 6,
   "id": "d004995c",
   "metadata": {},
   "outputs": [],
   "source": [
    "from sklearn.preprocessing import StandardScaler, RobustScaler\n",
    "\n",
    "robust_scaler = RobustScaler()\n",
    "\n",
    "df['scaled_time'] = robust_scaler.fit_transform(df['Time'].values.reshape(-1,1))\n",
    "df['scaled_amount'] = robust_scaler.fit_transform(df['Amount'].values.reshape(-1,1))\n",
    "\n",
    "df.drop(['Time', 'Amount'], axis = 1, inplace = True)\n"
   ]
  },
  {
   "cell_type": "markdown",
   "id": "e49687f4",
   "metadata": {},
   "source": [
    "The scaled time and amount are correlated to almost all of the features. The correlations are capped around 0.4. If the correlations were more widespread, an in-depth exploration of the correlation matrix would have been appropriate. Given the minimal instances of high correlation (negative or positive), I am making a judgement call that collinearity will not be an issue.   "
   ]
  },
  {
   "cell_type": "code",
   "execution_count": 7,
   "id": "fc075941",
   "metadata": {},
   "outputs": [
    {
     "data": {
      "image/png": "[encoded data removed]",
      "text/plain": [
       "<Figure size 720x720 with 2 Axes>"
      ]
     },
     "metadata": {
      "needs_background": "light"
     },
     "output_type": "display_data"
    }
   ],
   "source": [
    "plt.figure(figsize=(10,10))\n",
    "sns.heatmap(df.corr(), cmap= 'Paired');"
   ]
  },
  {
   "cell_type": "code",
   "execution_count": 8,
   "id": "d80d646b",
   "metadata": {},
   "outputs": [],
   "source": [
    "from imblearn.over_sampling import RandomOverSampler\n",
    "from imblearn.under_sampling import RandomUnderSampler\n",
    "\n",
    "overSample = RandomOverSampler(sampling_strategy = 'minority')\n",
    "underSample = RandomUnderSampler(sampling_strategy = 'majority')\n",
    "\n",
    "X = df.drop('Class', axis=1)\n",
    "y = df['Class']\n",
    "\n",
    "x_over, y_over = overSample.fit_resample(X, y)\n",
    "x_under, y_under = underSample.fit_resample(X, y)\n"
   ]
  },
  {
   "cell_type": "markdown",
   "id": "a89be89b",
   "metadata": {},
   "source": [
    "Following is the demonstration of implementation of over- and under-sampling. Note that the variables are not directly used in the model. I use pipeline for the ease of implementation. "
   ]
  },
  {
   "cell_type": "code",
   "execution_count": 9,
   "id": "08320328",
   "metadata": {},
   "outputs": [
    {
     "name": "stdout",
     "output_type": "stream",
     "text": [
      "(984, 30) (984,)\n",
      "Counter({0: 492, 1: 492})\n"
     ]
    }
   ],
   "source": [
    "print(x_under.shape, y_under.shape)\n",
    "print(Counter(y_under))"
   ]
  },
  {
   "cell_type": "code",
   "execution_count": 10,
   "id": "01b6709c",
   "metadata": {},
   "outputs": [
    {
     "name": "stdout",
     "output_type": "stream",
     "text": [
      "(568630, 30) (568630,)\n",
      "Counter({0: 284315, 1: 284315})\n"
     ]
    }
   ],
   "source": [
    "print(x_over.shape, y_over.shape)\n",
    "print(Counter(y_over))"
   ]
  },
  {
   "cell_type": "code",
   "execution_count": 11,
   "id": "bb527ac0",
   "metadata": {},
   "outputs": [],
   "source": [
    "from catboost import CatBoostClassifier\n",
    "\n",
    "X_train, X_test, y_train, y_test = train_test_split(x_under.values, y_under.values, test_size=0.2, random_state=42)\n",
    "\n",
    "classifiers_list = [\n",
    "     LogisticRegression(),\n",
    "     KNeighborsClassifier(),\n",
    "     LinearSVC(),\n",
    "     DecisionTreeClassifier(),\n",
    "     XGBClassifier(eval_metric = 'mlogloss'),\n",
    "     RandomForestClassifier(),\n",
    "     CatBoostClassifier(verbose=0)\n",
    "]"
   ]
  },
  {
   "cell_type": "code",
   "execution_count": 12,
   "id": "09f3a057",
   "metadata": {},
   "outputs": [],
   "source": [
    "from sklearn.model_selection import cross_val_score\n",
    "from sklearn.model_selection import cross_val_predict\n",
    "from sklearn.model_selection import RandomizedSearchCV\n",
    "from imblearn.pipeline import Pipeline\n",
    "from sklearn.model_selection import RepeatedStratifiedKFold\n",
    "from sklearn.metrics import confusion_matrix\n",
    "\n",
    "def fit_models(classifier_list, df, sampling_type, test_split = 0.2, random_state = 42,sub_sample_ratio = None):\n",
    "    \n",
    "    '''\n",
    "    sampling_type options: ['over', 'under', 'SMOTE']\n",
    "    '''\n",
    "    \n",
    "    if sub_sample_ratio != None:\n",
    "        df = df.sample(frac = sub_sample_ratio, random_state=1, replace = False)\n",
    "    else: pass\n",
    "    \n",
    "    X = df.drop('Class', axis=1)\n",
    "    y = df['Class']\n",
    "\n",
    "    X_train, X_test, y_train, y_test = train_test_split(X, y, test_size = test_split, random_state = random_state)\n",
    "    \n",
    "    d = {'Classifier':[],\n",
    "         'Training Accuracy':[],\n",
    "         'Testing Accuracy':[],\n",
    "         'F1 Score':[],\n",
    "         'Precision':[],\n",
    "         'Recall':[],\n",
    "         'Confusion Matrix':[]\n",
    "        }\n",
    "\n",
    "    for classifier in classifier_list:\n",
    "        if sampling_type == 'over':\n",
    "            steps = [('over', RandomOverSampler()), ('model', classifier)]\n",
    "        elif sampling_type == 'under':\n",
    "            steps = [('under', RandomUnderSampler()), ('model', classifier)]\n",
    "        else:\n",
    "            steps = [('smt', SMOTE()), ('model', classifier)]\n",
    "            \n",
    "        pipeline = Pipeline(steps = steps)\n",
    "        cv = RepeatedStratifiedKFold(n_splits=5, n_repeats=3, random_state=1)\n",
    "        \n",
    "        d['Classifier'].append(classifier.__class__.__name__)\n",
    "        training_score = cross_val_score(pipeline, X_train, y_train, cv=cv)\n",
    "        d['Training Accuracy'].append(training_score.mean())\n",
    "        y_pred = cross_val_predict(pipeline, X_test, y_test, cv=5)\n",
    "        d['Testing Accuracy'].append(accuracy_score(y_test, y_pred))\n",
    "        d['F1 Score'].append(f1_score(y_test, y_pred))\n",
    "        d['Precision'].append(precision_score(y_test, y_pred))\n",
    "        d['Recall'].append(recall_score(y_test, y_pred))\n",
    "        d['Confusion Matrix'].append(confusion_matrix(y_test, y_pred))\n",
    "    performance = pd.DataFrame(data = d).set_index('Classifier')\n",
    "    return performance\n",
    "\n"
   ]
  },
  {
   "cell_type": "markdown",
   "id": "d010af75",
   "metadata": {},
   "source": [
    "### Undersampling "
   ]
  },
  {
   "cell_type": "code",
   "execution_count": 13,
   "id": "8cff4483",
   "metadata": {},
   "outputs": [
    {
     "data": {
      "text/html": [
       "<div>\n",
       "<style scoped>\n",
       "    .dataframe tbody tr th:only-of-type {\n",
       "        vertical-align: middle;\n",
       "    }\n",
       "\n",
       "    .dataframe tbody tr th {\n",
       "        vertical-align: top;\n",
       "    }\n",
       "\n",
       "    .dataframe thead th {\n",
       "        text-align: right;\n",
       "    }\n",
       "</style>\n",
       "<table border=\"1\" class=\"dataframe\">\n",
       "  <thead>\n",
       "    <tr style=\"text-align: right;\">\n",
       "      <th></th>\n",
       "      <th>Training Accuracy</th>\n",
       "      <th>Testing Accuracy</th>\n",
       "      <th>F1 Score</th>\n",
       "      <th>Precision</th>\n",
       "      <th>Recall</th>\n",
       "      <th>Confusion Matrix</th>\n",
       "    </tr>\n",
       "    <tr>\n",
       "      <th>Classifier</th>\n",
       "      <th></th>\n",
       "      <th></th>\n",
       "      <th></th>\n",
       "      <th></th>\n",
       "      <th></th>\n",
       "      <th></th>\n",
       "    </tr>\n",
       "  </thead>\n",
       "  <tbody>\n",
       "    <tr>\n",
       "      <th>LogisticRegression</th>\n",
       "      <td>0.964278</td>\n",
       "      <td>0.942488</td>\n",
       "      <td>0.053726</td>\n",
       "      <td>0.027646</td>\n",
       "      <td>0.948980</td>\n",
       "      <td>[[53593, 3271], [5, 93]]</td>\n",
       "    </tr>\n",
       "    <tr>\n",
       "      <th>KNeighborsClassifier</th>\n",
       "      <td>0.973176</td>\n",
       "      <td>0.977722</td>\n",
       "      <td>0.119362</td>\n",
       "      <td>0.064036</td>\n",
       "      <td>0.877551</td>\n",
       "      <td>[[55607, 1257], [12, 86]]</td>\n",
       "    </tr>\n",
       "    <tr>\n",
       "      <th>LinearSVC</th>\n",
       "      <td>0.963976</td>\n",
       "      <td>0.907710</td>\n",
       "      <td>0.033817</td>\n",
       "      <td>0.017219</td>\n",
       "      <td>0.938776</td>\n",
       "      <td>[[51613, 5251], [6, 92]]</td>\n",
       "    </tr>\n",
       "    <tr>\n",
       "      <th>DecisionTreeClassifier</th>\n",
       "      <td>0.903436</td>\n",
       "      <td>0.898424</td>\n",
       "      <td>0.029195</td>\n",
       "      <td>0.014841</td>\n",
       "      <td>0.887755</td>\n",
       "      <td>[[51089, 5775], [11, 87]]</td>\n",
       "    </tr>\n",
       "    <tr>\n",
       "      <th>XGBClassifier</th>\n",
       "      <td>0.959948</td>\n",
       "      <td>0.973000</td>\n",
       "      <td>0.104773</td>\n",
       "      <td>0.055556</td>\n",
       "      <td>0.918367</td>\n",
       "      <td>[[55334, 1530], [8, 90]]</td>\n",
       "    </tr>\n",
       "    <tr>\n",
       "      <th>RandomForestClassifier</th>\n",
       "      <td>0.973049</td>\n",
       "      <td>0.976914</td>\n",
       "      <td>0.116857</td>\n",
       "      <td>0.062545</td>\n",
       "      <td>0.887755</td>\n",
       "      <td>[[55560, 1304], [11, 87]]</td>\n",
       "    </tr>\n",
       "    <tr>\n",
       "      <th>CatBoostClassifier</th>\n",
       "      <td>0.975296</td>\n",
       "      <td>0.985552</td>\n",
       "      <td>0.174524</td>\n",
       "      <td>0.096774</td>\n",
       "      <td>0.887755</td>\n",
       "      <td>[[56052, 812], [11, 87]]</td>\n",
       "    </tr>\n",
       "  </tbody>\n",
       "</table>\n",
       "</div>"
      ],
      "text/plain": [
       "                        Training Accuracy  Testing Accuracy  F1 Score  \\\n",
       "Classifier                                                              \n",
       "LogisticRegression               0.964278          0.942488  0.053726   \n",
       "KNeighborsClassifier             0.973176          0.977722  0.119362   \n",
       "LinearSVC                        0.963976          0.907710  0.033817   \n",
       "DecisionTreeClassifier           0.903436          0.898424  0.029195   \n",
       "XGBClassifier                    0.959948          0.973000  0.104773   \n",
       "RandomForestClassifier           0.973049          0.976914  0.116857   \n",
       "CatBoostClassifier               0.975296          0.985552  0.174524   \n",
       "\n",
       "                        Precision    Recall           Confusion Matrix  \n",
       "Classifier                                                              \n",
       "LogisticRegression       0.027646  0.948980   [[53593, 3271], [5, 93]]  \n",
       "KNeighborsClassifier     0.064036  0.877551  [[55607, 1257], [12, 86]]  \n",
       "LinearSVC                0.017219  0.938776   [[51613, 5251], [6, 92]]  \n",
       "DecisionTreeClassifier   0.014841  0.887755  [[51089, 5775], [11, 87]]  \n",
       "XGBClassifier            0.055556  0.918367   [[55334, 1530], [8, 90]]  \n",
       "RandomForestClassifier   0.062545  0.887755  [[55560, 1304], [11, 87]]  \n",
       "CatBoostClassifier       0.096774  0.887755   [[56052, 812], [11, 87]]  "
      ]
     },
     "execution_count": 13,
     "metadata": {},
     "output_type": "execute_result"
    }
   ],
   "source": [
    "performance_undersampling = fit_models(classifiers_list, df, sampling_type = 'under')\n",
    "performance_undersampling.head(n=10)"
   ]
  },
  {
   "cell_type": "markdown",
   "id": "d153171f",
   "metadata": {},
   "source": [
    "Did not run the following chunk of codes because the computational time was too long."
   ]
  },
  {
   "cell_type": "markdown",
   "id": "a5a0dbb3",
   "metadata": {},
   "source": [
    "### SMOTE \n",
    "\n",
    "It creates synthetic points from the minority class in order to reach an equal balance between the minority and majority class.\n",
    "\n",
    "Reference: [SMOTE: Synthetic Minority Over-sampling Technique](https://arxiv.org/abs/1106.1813)"
   ]
  },
  {
   "cell_type": "code",
   "execution_count": null,
   "id": "202f6617",
   "metadata": {},
   "outputs": [],
   "source": [
    "performance_xgb = fit_models(classifiers_list[4:6], df, sampling_type = 'SMOTE')\n",
    "performance_xgb.head(n=10)"
   ]
  },
  {
   "cell_type": "code",
   "execution_count": null,
   "id": "eccd16cc",
   "metadata": {},
   "outputs": [],
   "source": [
    "performance_oversampling = fit_models(classifiers_list, df, sampling_type='over' )\n",
    "performance_oversampling.head(n=10)"
   ]
  },
  {
   "cell_type": "markdown",
   "id": "f4468d6e",
   "metadata": {},
   "source": [
    "### Hyperparameter tuning"
   ]
  },
  {
   "cell_type": "code",
   "execution_count": null,
   "id": "57fd44b7",
   "metadata": {},
   "outputs": [],
   "source": [
    "def tune_hyperparams(classifier, df, param_grid, sampling_type = 'under', test_split = 0.2, random_state = 42 \n",
    "                             ,sub_sample_ratio = None):\n",
    "    \n",
    "    if sub_sample_ratio != None:\n",
    "        df = df.sample(frac = sub_sample_ratio, random_state=1, replace = False)\n",
    "    else: pass\n",
    "    \n",
    "    X = df.drop('Class', axis=1)\n",
    "    y = df['Class']\n",
    "    \n",
    "    X_train, X_test, y_train, y_test = train_test_split(X, y, test_size = test_split, random_state = random_state)\n",
    "    \n",
    "    grid_clf = RandomizedSearchCV(classifier, param_grid, n_iter=10, n_jobs = 10, cv = 10,\n",
    "                                  scoring='accuracy', refit = False, random_state = 0, verbose = 0)\n",
    "\n",
    "    grid_clf.fit(X_train, y_train)\n",
    "\n",
    "    best_score = grid_clf.best_score_\n",
    "    param_recommend = grid_clf.best_params_\n",
    "    print(best_score*100, param_recommend)\n",
    "    \n",
    "    best_model = grid_clf.best_estimator_\n",
    "\n",
    "    return best_model\n"
   ]
  },
  {
   "cell_type": "code",
   "execution_count": null,
   "id": "7f6bf3b1",
   "metadata": {},
   "outputs": [],
   "source": [
    "param_grid = {\n",
    "    'n_estimators':[10, 30, 50, 70, 90, 150, 200],\n",
    "    'max_depth':[100,200,300,400,500,600,700,800,1000,2000]\n",
    "}\n",
    "xgb_tuned = tune_hyperparams(XGBClassifier(use_label_encoder = False, eval_metric = 'mlogloss'),\n",
    "                             df, param_grid, sampling_type = 'under', test_split = 0.2, random_state = 42 \n",
    "                             ,sub_sample_ratio = None)"
   ]
  },
  {
   "cell_type": "code",
   "execution_count": null,
   "id": "411607c5",
   "metadata": {},
   "outputs": [],
   "source": [
    "from sklearn.metrics import classification_report\n",
    "\n",
    "y_pred = xgb_tuned.predict(X_test)\n",
    "print(classification_report(y_test, y_pred_tree))"
   ]
  },
  {
   "cell_type": "code",
   "execution_count": null,
   "id": "31f61876",
   "metadata": {},
   "outputs": [],
   "source": []
  }
 ],
 "metadata": {
  "kernelspec": {
   "display_name": "Python 3 (ipykernel)",
   "language": "python",
   "name": "python3"
  },
  "language_info": {
   "codemirror_mode": {
    "name": "ipython",
    "version": 3
   },
   "file_extension": ".py",
   "mimetype": "text/x-python",
   "name": "python",
   "nbconvert_exporter": "python",
   "pygments_lexer": "ipython3",
   "version": "3.8.6"
  }
 },
 "nbformat": 4,
 "nbformat_minor": 5
}
